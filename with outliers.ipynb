{
 "cells": [
  {
   "cell_type": "code",
   "execution_count": 1,
   "id": "e212372e",
   "metadata": {},
   "outputs": [],
   "source": [
    "import pandas as pd\n",
    "import numpy as np\n",
    "import matplotlib.pyplot as plt\n",
    "import seaborn as sns\n",
    "from sklearn.model_selection import train_test_split\n",
    "from sklearn.preprocessing import OneHotEncoder,LabelEncoder, MinMaxScaler, StandardScaler\n",
    "from sklearn.linear_model import LinearRegression\n",
    "from sklearn.ensemble import RandomForestRegressor\n",
    "from sklearn.tree import DecisionTreeClassifier\n",
    "from sklearn.metrics import mean_squared_error, r2_score\n",
    "import xgboost as xgb\n",
    "import statsmodels.api as sm\n",
    "from scipy import stats\n",
    "from sklearn.feature_selection import SelectKBest, f_regression, f_classif\n",
    "from sklearn.model_selection import cross_val_score"
   ]
  },
  {
   "cell_type": "code",
   "execution_count": 2,
   "id": "ae985b6b",
   "metadata": {},
   "outputs": [],
   "source": [
    "crop_data=pd.read_csv(r\"C:\\Users\\navsi\\Downloads\\crop_yield.csv.zip\")"
   ]
  },
  {
   "cell_type": "code",
   "execution_count": 3,
   "id": "62bf8c26",
   "metadata": {},
   "outputs": [
    {
     "data": {
      "text/html": [
       "<div>\n",
       "<style scoped>\n",
       "    .dataframe tbody tr th:only-of-type {\n",
       "        vertical-align: middle;\n",
       "    }\n",
       "\n",
       "    .dataframe tbody tr th {\n",
       "        vertical-align: top;\n",
       "    }\n",
       "\n",
       "    .dataframe thead th {\n",
       "        text-align: right;\n",
       "    }\n",
       "</style>\n",
       "<table border=\"1\" class=\"dataframe\">\n",
       "  <thead>\n",
       "    <tr style=\"text-align: right;\">\n",
       "      <th></th>\n",
       "      <th>Crop</th>\n",
       "      <th>Crop_Year</th>\n",
       "      <th>Season</th>\n",
       "      <th>State</th>\n",
       "      <th>Area</th>\n",
       "      <th>Production</th>\n",
       "      <th>Annual_Rainfall</th>\n",
       "      <th>Fertilizer</th>\n",
       "      <th>Pesticide</th>\n",
       "      <th>Yield</th>\n",
       "    </tr>\n",
       "  </thead>\n",
       "  <tbody>\n",
       "    <tr>\n",
       "      <th>0</th>\n",
       "      <td>Arecanut</td>\n",
       "      <td>1997</td>\n",
       "      <td>Whole Year</td>\n",
       "      <td>Assam</td>\n",
       "      <td>73814.0</td>\n",
       "      <td>56708</td>\n",
       "      <td>2051.4</td>\n",
       "      <td>7024878.38</td>\n",
       "      <td>22882.34</td>\n",
       "      <td>0.796087</td>\n",
       "    </tr>\n",
       "    <tr>\n",
       "      <th>1</th>\n",
       "      <td>Arhar/Tur</td>\n",
       "      <td>1997</td>\n",
       "      <td>Kharif</td>\n",
       "      <td>Assam</td>\n",
       "      <td>6637.0</td>\n",
       "      <td>4685</td>\n",
       "      <td>2051.4</td>\n",
       "      <td>631643.29</td>\n",
       "      <td>2057.47</td>\n",
       "      <td>0.710435</td>\n",
       "    </tr>\n",
       "    <tr>\n",
       "      <th>2</th>\n",
       "      <td>Castor seed</td>\n",
       "      <td>1997</td>\n",
       "      <td>Kharif</td>\n",
       "      <td>Assam</td>\n",
       "      <td>796.0</td>\n",
       "      <td>22</td>\n",
       "      <td>2051.4</td>\n",
       "      <td>75755.32</td>\n",
       "      <td>246.76</td>\n",
       "      <td>0.238333</td>\n",
       "    </tr>\n",
       "    <tr>\n",
       "      <th>3</th>\n",
       "      <td>Coconut</td>\n",
       "      <td>1997</td>\n",
       "      <td>Whole Year</td>\n",
       "      <td>Assam</td>\n",
       "      <td>19656.0</td>\n",
       "      <td>126905000</td>\n",
       "      <td>2051.4</td>\n",
       "      <td>1870661.52</td>\n",
       "      <td>6093.36</td>\n",
       "      <td>5238.051739</td>\n",
       "    </tr>\n",
       "    <tr>\n",
       "      <th>4</th>\n",
       "      <td>Cotton(lint)</td>\n",
       "      <td>1997</td>\n",
       "      <td>Kharif</td>\n",
       "      <td>Assam</td>\n",
       "      <td>1739.0</td>\n",
       "      <td>794</td>\n",
       "      <td>2051.4</td>\n",
       "      <td>165500.63</td>\n",
       "      <td>539.09</td>\n",
       "      <td>0.420909</td>\n",
       "    </tr>\n",
       "    <tr>\n",
       "      <th>...</th>\n",
       "      <td>...</td>\n",
       "      <td>...</td>\n",
       "      <td>...</td>\n",
       "      <td>...</td>\n",
       "      <td>...</td>\n",
       "      <td>...</td>\n",
       "      <td>...</td>\n",
       "      <td>...</td>\n",
       "      <td>...</td>\n",
       "      <td>...</td>\n",
       "    </tr>\n",
       "    <tr>\n",
       "      <th>19684</th>\n",
       "      <td>Small millets</td>\n",
       "      <td>1998</td>\n",
       "      <td>Kharif</td>\n",
       "      <td>Nagaland</td>\n",
       "      <td>4000.0</td>\n",
       "      <td>2000</td>\n",
       "      <td>1498.0</td>\n",
       "      <td>395200.00</td>\n",
       "      <td>1160.00</td>\n",
       "      <td>0.500000</td>\n",
       "    </tr>\n",
       "    <tr>\n",
       "      <th>19685</th>\n",
       "      <td>Wheat</td>\n",
       "      <td>1998</td>\n",
       "      <td>Rabi</td>\n",
       "      <td>Nagaland</td>\n",
       "      <td>1000.0</td>\n",
       "      <td>3000</td>\n",
       "      <td>1498.0</td>\n",
       "      <td>98800.00</td>\n",
       "      <td>290.00</td>\n",
       "      <td>3.000000</td>\n",
       "    </tr>\n",
       "    <tr>\n",
       "      <th>19686</th>\n",
       "      <td>Maize</td>\n",
       "      <td>1997</td>\n",
       "      <td>Kharif</td>\n",
       "      <td>Jammu and Kashmir</td>\n",
       "      <td>310883.0</td>\n",
       "      <td>440900</td>\n",
       "      <td>1356.2</td>\n",
       "      <td>29586735.11</td>\n",
       "      <td>96373.73</td>\n",
       "      <td>1.285000</td>\n",
       "    </tr>\n",
       "    <tr>\n",
       "      <th>19687</th>\n",
       "      <td>Rice</td>\n",
       "      <td>1997</td>\n",
       "      <td>Kharif</td>\n",
       "      <td>Jammu and Kashmir</td>\n",
       "      <td>275746.0</td>\n",
       "      <td>5488</td>\n",
       "      <td>1356.2</td>\n",
       "      <td>26242746.82</td>\n",
       "      <td>85481.26</td>\n",
       "      <td>0.016667</td>\n",
       "    </tr>\n",
       "    <tr>\n",
       "      <th>19688</th>\n",
       "      <td>Wheat</td>\n",
       "      <td>1997</td>\n",
       "      <td>Rabi</td>\n",
       "      <td>Jammu and Kashmir</td>\n",
       "      <td>239344.0</td>\n",
       "      <td>392160</td>\n",
       "      <td>1356.2</td>\n",
       "      <td>22778368.48</td>\n",
       "      <td>74196.64</td>\n",
       "      <td>1.261818</td>\n",
       "    </tr>\n",
       "  </tbody>\n",
       "</table>\n",
       "<p>19689 rows × 10 columns</p>\n",
       "</div>"
      ],
      "text/plain": [
       "                Crop  Crop_Year       Season              State      Area  \\\n",
       "0           Arecanut       1997  Whole Year               Assam   73814.0   \n",
       "1          Arhar/Tur       1997  Kharif                   Assam    6637.0   \n",
       "2        Castor seed       1997  Kharif                   Assam     796.0   \n",
       "3           Coconut        1997  Whole Year               Assam   19656.0   \n",
       "4       Cotton(lint)       1997  Kharif                   Assam    1739.0   \n",
       "...              ...        ...          ...                ...       ...   \n",
       "19684  Small millets       1998  Kharif                Nagaland    4000.0   \n",
       "19685          Wheat       1998  Rabi                  Nagaland    1000.0   \n",
       "19686          Maize       1997  Kharif       Jammu and Kashmir  310883.0   \n",
       "19687           Rice       1997  Kharif       Jammu and Kashmir  275746.0   \n",
       "19688          Wheat       1997  Rabi         Jammu and Kashmir  239344.0   \n",
       "\n",
       "       Production  Annual_Rainfall   Fertilizer  Pesticide        Yield  \n",
       "0           56708           2051.4   7024878.38   22882.34     0.796087  \n",
       "1            4685           2051.4    631643.29    2057.47     0.710435  \n",
       "2              22           2051.4     75755.32     246.76     0.238333  \n",
       "3       126905000           2051.4   1870661.52    6093.36  5238.051739  \n",
       "4             794           2051.4    165500.63     539.09     0.420909  \n",
       "...           ...              ...          ...        ...          ...  \n",
       "19684        2000           1498.0    395200.00    1160.00     0.500000  \n",
       "19685        3000           1498.0     98800.00     290.00     3.000000  \n",
       "19686      440900           1356.2  29586735.11   96373.73     1.285000  \n",
       "19687        5488           1356.2  26242746.82   85481.26     0.016667  \n",
       "19688      392160           1356.2  22778368.48   74196.64     1.261818  \n",
       "\n",
       "[19689 rows x 10 columns]"
      ]
     },
     "execution_count": 3,
     "metadata": {},
     "output_type": "execute_result"
    }
   ],
   "source": [
    "crop_data"
   ]
  },
  {
   "cell_type": "code",
   "execution_count": 4,
   "id": "d38bf220",
   "metadata": {},
   "outputs": [],
   "source": [
    "scaler = MinMaxScaler()\n",
    "crop_data['Area'] = scaler.fit_transform(crop_data[['Area']])\n",
    "crop_data['Production'] = scaler.fit_transform(crop_data[['Production']])\n",
    "crop_data['Annual_Rainfall'] = scaler.fit_transform(crop_data[['Annual_Rainfall']])\n",
    "crop_data['Fertilizer'] = scaler.fit_transform(crop_data[['Fertilizer']])\n",
    "crop_data['Pesticide'] = scaler.fit_transform(crop_data[['Pesticide']])\n",
    "crop_data['Yield'] = scaler.fit_transform(crop_data[['Yield']])"
   ]
  },
  {
   "cell_type": "code",
   "execution_count": 5,
   "id": "1eee8c01",
   "metadata": {},
   "outputs": [],
   "source": [
    "from sklearn.preprocessing import StandardScaler\n",
    "scaler = StandardScaler()\n",
    "crop_data['Area'] = scaler.fit_transform(crop_data[['Area']])\n",
    "crop_data['Production'] = scaler.fit_transform(crop_data[['Production']])\n",
    "crop_data['Annual_Rainfall'] = scaler.fit_transform(crop_data[['Annual_Rainfall']])\n",
    "crop_data['Fertilizer'] = scaler.fit_transform(crop_data[['Fertilizer']])\n",
    "crop_data['Pesticide'] = scaler.fit_transform(crop_data[['Pesticide']])\n",
    "crop_data['Yield'] = scaler.fit_transform(crop_data[['Yield']])"
   ]
  },
  {
   "cell_type": "code",
   "execution_count": 6,
   "id": "c6b2627f",
   "metadata": {},
   "outputs": [],
   "source": [
    "\n",
    "# One-Hot Encoding for Season, State, and Crop columns\n",
    "crop_data = pd.get_dummies(crop_data, columns=['Season', 'State', 'Crop'], drop_first=True)\n"
   ]
  },
  {
   "cell_type": "code",
   "execution_count": 7,
   "id": "d2dae52e",
   "metadata": {},
   "outputs": [
    {
     "name": "stdout",
     "output_type": "stream",
     "text": [
      "Training set shape: (15751, 94) (15751,)\n",
      "Testing set shape: (3938, 94) (3938,)\n"
     ]
    }
   ],
   "source": [
    "from sklearn.model_selection import train_test_split\n",
    "\n",
    "# Assuming 'Yield' is your target variable\n",
    "X = crop_data.drop('Yield', axis=1)\n",
    "y = crop_data['Yield']\n",
    "\n",
    "# Split the data into training and testing sets\n",
    "X_train, X_test, y_train, y_test = train_test_split(X, y, test_size=0.2, random_state=42)\n",
    "\n",
    "# Check the shape of the training and testing sets\n",
    "print(\"Training set shape:\", X_train.shape, y_train.shape)\n",
    "print(\"Testing set shape:\", X_test.shape, y_test.shape)\n",
    "\n"
   ]
  },
  {
   "cell_type": "code",
   "execution_count": 8,
   "id": "d21f7a7f",
   "metadata": {},
   "outputs": [
    {
     "name": "stdout",
     "output_type": "stream",
     "text": [
      "Training RMSE: 0.3816635038124896\n",
      "Testing RMSE: 0.4532392910629128\n",
      "Training R^2 Score: 0.8529095192575167\n",
      "Testing R^2 Score: 0.8022291020136728\n"
     ]
    }
   ],
   "source": [
    "from sklearn.linear_model import LinearRegression\n",
    "from sklearn.metrics import mean_squared_error, r2_score\n",
    "\n",
    "# Initialize the Linear Regression model\n",
    "linear_model = LinearRegression()\n",
    "\n",
    "# Fit the model to the training data\n",
    "linear_model.fit(X_train, y_train)\n",
    "\n",
    "# Predictions on the training set\n",
    "train_predictions = linear_model.predict(X_train)\n",
    "\n",
    "# Predictions on the testing set\n",
    "test_predictions = linear_model.predict(X_test)\n",
    "\n",
    "# Evaluate the model\n",
    "train_rmse = mean_squared_error(y_train, train_predictions, squared=False)\n",
    "test_rmse = mean_squared_error(y_test, test_predictions, squared=False)\n",
    "\n",
    "train_r2 = r2_score(y_train, train_predictions)\n",
    "test_r2 = r2_score(y_test, test_predictions)\n",
    "\n",
    "print(\"Training RMSE:\", train_rmse)\n",
    "print(\"Testing RMSE:\", test_rmse)\n",
    "print(\"Training R^2 Score:\", train_r2)\n",
    "print(\"Testing R^2 Score:\", test_r2)\n"
   ]
  },
  {
   "cell_type": "code",
   "execution_count": 9,
   "id": "1dc5baf9",
   "metadata": {},
   "outputs": [
    {
     "name": "stdout",
     "output_type": "stream",
     "text": [
      "Training MSE: 0.14566703014242627\n",
      "Testing MSE: 0.20542585496321178\n"
     ]
    }
   ],
   "source": [
    "# Evaluate the model\n",
    "train_mse = mean_squared_error(y_train, train_predictions)\n",
    "test_mse = mean_squared_error(y_test, test_predictions)\n",
    "\n",
    "print(\"Training MSE:\", train_mse)\n",
    "print(\"Testing MSE:\", test_mse)\n"
   ]
  },
  {
   "cell_type": "code",
   "execution_count": 10,
   "id": "84936a0a",
   "metadata": {},
   "outputs": [
    {
     "data": {
      "image/png": "[encoded data removed]",
      "text/plain": [
       "<Figure size 640x480 with 1 Axes>"
      ]
     },
     "metadata": {},
     "output_type": "display_data"
    },
    {
     "data": {
      "image/png": "[encoded data removed]",
      "text/plain": [
       "<Figure size 640x480 with 1 Axes>"
      ]
     },
     "metadata": {},
     "output_type": "display_data"
    }
   ],
   "source": [
    "import matplotlib.pyplot as plt\n",
    "\n",
    "# Visualize predicted vs actual for training set\n",
    "plt.scatter(y_train, train_predictions)\n",
    "plt.title('Training Set: Predicted vs Actual')\n",
    "plt.xlabel('Actual Yield')\n",
    "plt.ylabel('Predicted Yield')\n",
    "plt.show()\n",
    "\n",
    "# Visualize predicted vs actual for testing set\n",
    "plt.scatter(y_test, test_predictions)\n",
    "plt.title('Testing Set: Predicted vs Actual')\n",
    "plt.xlabel('Actual Yield')\n",
    "plt.ylabel('Predicted Yield')\n",
    "plt.show()\n"
   ]
  },
  {
   "cell_type": "code",
   "execution_count": 11,
   "id": "eaa3d1b5",
   "metadata": {},
   "outputs": [
    {
     "data": {
      "image/png": "[encoded data removed]",
      "text/plain": [
       "<Figure size 640x480 with 1 Axes>"
      ]
     },
     "metadata": {},
     "output_type": "display_data"
    },
    {
     "data": {
      "image/png": "[encoded data removed]",
      "text/plain": [
       "<Figure size 640x480 with 1 Axes>"
      ]
     },
     "metadata": {},
     "output_type": "display_data"
    }
   ],
   "source": [
    "# Visualize residuals for training set\n",
    "plt.scatter(train_predictions, y_train - train_predictions)\n",
    "plt.title('Training Set: Residuals')\n",
    "plt.xlabel('Predicted Yield')\n",
    "plt.ylabel('Residuals')\n",
    "plt.axhline(y=0, color='r', linestyle='--')\n",
    "plt.show()\n",
    "\n",
    "# Visualize residuals for testing set\n",
    "plt.scatter(test_predictions, y_test - test_predictions)\n",
    "plt.title('Testing Set: Residuals')\n",
    "plt.xlabel('Predicted Yield')\n",
    "plt.ylabel('Residuals')\n",
    "plt.axhline(y=0, color='r', linestyle='--')\n",
    "plt.show()\n"
   ]
  },
  {
   "cell_type": "code",
   "execution_count": 12,
   "id": "2745e486",
   "metadata": {},
   "outputs": [
    {
     "name": "stdout",
     "output_type": "stream",
     "text": [
      "Decision Tree Regression Model:\n",
      "Training RMSE: 1.6460708807138785e-10\n",
      "Testing RMSE: 0.15916102495267348\n",
      "Training R^2 Score: 1.0\n",
      "Testing R^2 Score: 0.9756117444679226\n"
     ]
    }
   ],
   "source": [
    "from sklearn.tree import DecisionTreeRegressor\n",
    "\n",
    "# Initialize the Decision Tree Regression model\n",
    "tree_model = DecisionTreeRegressor(random_state=42)\n",
    "\n",
    "# Fit the model to the training data\n",
    "tree_model.fit(X_train, y_train)\n",
    "\n",
    "# Predictions on the training set\n",
    "train_predictions_tree = tree_model.predict(X_train)\n",
    "\n",
    "# Predictions on the testing set\n",
    "test_predictions_tree = tree_model.predict(X_test)\n",
    "\n",
    "# Evaluate the model\n",
    "train_rmse_tree = mean_squared_error(y_train, train_predictions_tree, squared=False)\n",
    "test_rmse_tree = mean_squared_error(y_test, test_predictions_tree, squared=False)\n",
    "\n",
    "train_r2_tree = r2_score(y_train, train_predictions_tree)\n",
    "test_r2_tree = r2_score(y_test, test_predictions_tree)\n",
    "\n",
    "print(\"Decision Tree Regression Model:\")\n",
    "print(\"Training RMSE:\", train_rmse_tree)\n",
    "print(\"Testing RMSE:\", test_rmse_tree)\n",
    "print(\"Training R^2 Score:\", train_r2_tree)\n",
    "print(\"Testing R^2 Score:\", test_r2_tree)\n"
   ]
  },
  {
   "cell_type": "code",
   "execution_count": 13,
   "id": "013fc68a",
   "metadata": {},
   "outputs": [
    {
     "name": "stdout",
     "output_type": "stream",
     "text": [
      "Decision Tree Regression Model:\n",
      "Training MSE: 2.7095493443341636e-20\n",
      "Testing MSE: 0.025332231863985553\n"
     ]
    }
   ],
   "source": [
    "# Evaluate the Decision Tree Regression model\n",
    "train_mse_tree = mean_squared_error(y_train, train_predictions_tree)\n",
    "test_mse_tree = mean_squared_error(y_test, test_predictions_tree)\n",
    "\n",
    "print(\"Decision Tree Regression Model:\")\n",
    "print(\"Training MSE:\", train_mse_tree)\n",
    "print(\"Testing MSE:\", test_mse_tree)\n"
   ]
  },
  {
   "cell_type": "code",
   "execution_count": 14,
   "id": "e2a19b72",
   "metadata": {},
   "outputs": [
    {
     "name": "stdout",
     "output_type": "stream",
     "text": [
      "Random Forest Regression Model:\n",
      "Training RMSE: 0.0679124232118823\n",
      "Testing RMSE: 0.11477869507304782\n",
      "Training R^2 Score: 0.9953428336006088\n",
      "Testing R^2 Score: 0.9873167705823237\n"
     ]
    }
   ],
   "source": [
    "from sklearn.ensemble import RandomForestRegressor\n",
    "\n",
    "# Initialize the Random Forest Regression model\n",
    "forest_model = RandomForestRegressor(random_state=42)\n",
    "\n",
    "# Fit the model to the training data\n",
    "forest_model.fit(X_train, y_train)\n",
    "\n",
    "# Predictions on the training set\n",
    "train_predictions_forest = forest_model.predict(X_train)\n",
    "\n",
    "# Predictions on the testing set\n",
    "test_predictions_forest = forest_model.predict(X_test)\n",
    "\n",
    "# Evaluate the model\n",
    "train_rmse_forest = mean_squared_error(y_train, train_predictions_forest, squared=False)\n",
    "test_rmse_forest = mean_squared_error(y_test, test_predictions_forest, squared=False)\n",
    "\n",
    "train_r2_forest = r2_score(y_train, train_predictions_forest)\n",
    "test_r2_forest = r2_score(y_test, test_predictions_forest)\n",
    "\n",
    "print(\"Random Forest Regression Model:\")\n",
    "print(\"Training RMSE:\", train_rmse_forest)\n",
    "print(\"Testing RMSE:\", test_rmse_forest)\n",
    "print(\"Training R^2 Score:\", train_r2_forest)\n",
    "print(\"Testing R^2 Score:\", test_r2_forest)\n"
   ]
  },
  {
   "cell_type": "code",
   "execution_count": 15,
   "id": "c24fb514",
   "metadata": {},
   "outputs": [
    {
     "name": "stdout",
     "output_type": "stream",
     "text": [
      "Random Forest Regression Model:\n",
      "Training MSE: 0.004612097226509811\n",
      "Testing MSE: 0.013174148842671691\n"
     ]
    }
   ],
   "source": [
    "# Evaluate the Random Forest Regression model\n",
    "train_mse_forest = mean_squared_error(y_train, train_predictions_forest)\n",
    "test_mse_forest = mean_squared_error(y_test, test_predictions_forest)\n",
    "\n",
    "print(\"Random Forest Regression Model:\")\n",
    "print(\"Training MSE:\", train_mse_forest)\n",
    "print(\"Testing MSE:\", test_mse_forest)\n"
   ]
  },
  {
   "cell_type": "code",
   "execution_count": 16,
   "id": "6956e5bf",
   "metadata": {},
   "outputs": [
    {
     "name": "stdout",
     "output_type": "stream",
     "text": [
      "XGBoost Regression Model:\n",
      "Training RMSE: 0.0017498725730574136\n",
      "Testing RMSE: 0.2877262566235538\n",
      "Training R^2 Score: 0.9999969080237463\n",
      "Testing R^2 Score: 0.9202985406832407\n"
     ]
    }
   ],
   "source": [
    "import xgboost as xgb\n",
    "\n",
    "# Convert data to DMatrix format, which is the internal data structure used by XGBoost\n",
    "dtrain = xgb.DMatrix(X_train, label=y_train)\n",
    "dtest = xgb.DMatrix(X_test, label=y_test)\n",
    "\n",
    "# Set the hyperparameters for XGBoost\n",
    "params = {\n",
    "    'objective': 'reg:squarederror',  # 'reg:squarederror' for regression tasks\n",
    "    'eval_metric': 'rmse',             # Root Mean Squared Error as the evaluation metric\n",
    "    'seed': 42\n",
    "}\n",
    "\n",
    "# Train the XGBoost model\n",
    "num_round = 100  # Number of boosting rounds (you can adjust this)\n",
    "xgb_model = xgb.train(params, dtrain, num_round)\n",
    "\n",
    "# Predictions on the training set\n",
    "train_predictions_xgb = xgb_model.predict(dtrain)\n",
    "\n",
    "# Predictions on the testing set\n",
    "test_predictions_xgb = xgb_model.predict(dtest)\n",
    "\n",
    "# Evaluate the model\n",
    "train_rmse_xgb = mean_squared_error(y_train, train_predictions_xgb, squared=False)\n",
    "test_rmse_xgb = mean_squared_error(y_test, test_predictions_xgb, squared=False)\n",
    "\n",
    "train_r2_xgb = r2_score(y_train, train_predictions_xgb)\n",
    "test_r2_xgb = r2_score(y_test, test_predictions_xgb)\n",
    "\n",
    "print(\"XGBoost Regression Model:\")\n",
    "print(\"Training RMSE:\", train_rmse_xgb)\n",
    "print(\"Testing RMSE:\", test_rmse_xgb)\n",
    "print(\"Training R^2 Score:\", train_r2_xgb)\n",
    "print(\"Testing R^2 Score:\", test_r2_xgb)\n"
   ]
  },
  {
   "cell_type": "code",
   "execution_count": 17,
   "id": "7d5548d5",
   "metadata": {},
   "outputs": [
    {
     "name": "stdout",
     "output_type": "stream",
     "text": [
      "XGBoost Regression Model:\n",
      "Training MSE: 3.0620540219385733e-06\n",
      "Testing MSE: 0.08278639875060313\n"
     ]
    }
   ],
   "source": [
    "# Evaluate the XGBoost Regression model\n",
    "train_mse_xgb = mean_squared_error(y_train, train_predictions_xgb)\n",
    "test_mse_xgb = mean_squared_error(y_test, test_predictions_xgb)\n",
    "\n",
    "print(\"XGBoost Regression Model:\")\n",
    "print(\"Training MSE:\", train_mse_xgb)\n",
    "print(\"Testing MSE:\", test_mse_xgb)\n"
   ]
  },
  {
   "cell_type": "code",
   "execution_count": 31,
   "id": "d1d5e481",
   "metadata": {},
   "outputs": [
    {
     "name": "stdout",
     "output_type": "stream",
     "text": [
      "               Model  Training RMSE  Testing RMSE  Training R^2  Testing R^2  \\\n",
      "0  Linear Regression   3.816635e-01      0.453239      0.852910     0.802229   \n",
      "1      Decision Tree   1.646071e-10      0.159161      1.000000     0.975612   \n",
      "2      Random Forest   6.791242e-02      0.114779      0.995343     0.987317   \n",
      "3            XGBoost   1.749873e-03      0.287726      0.999997     0.920299   \n",
      "\n",
      "   Training MSE  Testing MSE  \n",
      "0  1.456670e-01     0.205426  \n",
      "1  2.709549e-20     0.025332  \n",
      "2  4.612097e-03     0.013174  \n",
      "3  3.062054e-06     0.082786  \n"
     ]
    },
    {
     "data": {
      "image/png": "[encoded data removed]",
      "text/plain": [
       "<Figure size 1200x500 with 2 Axes>"
      ]
     },
     "metadata": {},
     "output_type": "display_data"
    }
   ],
   "source": [
    "# Create a DataFrame to store the evaluation metrics\n",
    "evaluation_metrics = pd.DataFrame({\n",
    "    'Model': ['Linear Regression', 'Decision Tree', 'Random Forest', 'XGBoost'],\n",
    "    'Training RMSE': [train_rmse, train_rmse_tree, train_rmse_forest, train_rmse_xgb],\n",
    "    'Testing RMSE': [test_rmse, test_rmse_tree, test_rmse_forest, test_rmse_xgb],\n",
    "    'Training R^2': [train_r2, train_r2_tree, train_r2_forest, train_r2_xgb],\n",
    "    'Testing R^2': [test_r2, test_r2_tree, test_r2_forest, test_r2_xgb],\n",
    "    'Training MSE': [train_mse, train_mse_tree, train_mse_forest, train_mse_xgb],\n",
    "    'Testing MSE': [test_mse, test_mse_tree, test_mse_forest, test_mse_xgb]\n",
    "})\n",
    "\n",
    "# Display the evaluation metrics\n",
    "print(evaluation_metrics)\n",
    "\n",
    "# Visualize RMSE and R^2\n",
    "fig, (ax1, ax2) = plt.subplots(1, 2, figsize=(12, 5))\n",
    "\n",
    "# RMSE comparison\n",
    "sns.barplot(x='Model', y='Testing RMSE', data=evaluation_metrics, ax=ax1)\n",
    "ax1.set_title('Testing RMSE Comparison')\n",
    "\n",
    "# R^2 comparison\n",
    "sns.barplot(x='Model', y='Testing R^2', data=evaluation_metrics, ax=ax2)\n",
    "ax2.set_title('Testing R^2 Comparison')\n",
    "\n",
    "plt.tight_layout()\n",
    "plt.show()\n"
   ]
  },
  {
   "cell_type": "code",
   "execution_count": 20,
   "id": "b06e0b25",
   "metadata": {},
   "outputs": [
    {
     "name": "stdout",
     "output_type": "stream",
     "text": [
      "Low Yield       19523\n",
      "High Yield        165\n",
      "Medium Yield        1\n",
      "Name: Yield_Category, dtype: int64\n"
     ]
    }
   ],
   "source": [
    "# Assuming 'Yield' is your original target variable\n",
    "# You can create a new column 'Yield_Category' based on yield levels\n",
    "crop_data['Yield_Category'] = pd.cut(crop_data['Yield'], bins=[-np.inf, 0.33, 0.66, np.inf], labels=['Low Yield', 'Medium Yield', 'High Yield'])\n",
    "\n",
    "# Drop the original 'Yield' column if you won't be using it for classification\n",
    "crop_data.drop('Yield', axis=1, inplace=True)\n",
    "\n",
    "# Check the distribution of the new 'Yield_Category' column\n",
    "print(crop_data['Yield_Category'].value_counts())\n"
   ]
  },
  {
   "cell_type": "code",
   "execution_count": 28,
   "id": "75b3c9c9",
   "metadata": {},
   "outputs": [
    {
     "name": "stdout",
     "output_type": "stream",
     "text": [
      "Decision Tree Classifier Model:\n",
      "Training Accuracy: 1.0\n",
      "Testing Accuracy: 0.9997968718261223\n",
      "\n",
      "Classification Report:\n",
      "               precision    recall  f1-score   support\n",
      "\n",
      "  High Yield       1.00      0.97      0.99        38\n",
      "   Low Yield       1.00      1.00      1.00      4885\n",
      "\n",
      "    accuracy                           1.00      4923\n",
      "   macro avg       1.00      0.99      0.99      4923\n",
      "weighted avg       1.00      1.00      1.00      4923\n",
      "\n",
      "\n",
      "Confusion Matrix:\n",
      " [[  37    1]\n",
      " [   0 4885]]\n"
     ]
    }
   ],
   "source": [
    "from sklearn.tree import DecisionTreeClassifier\n",
    "from sklearn.metrics import accuracy_score, classification_report, confusion_matrix\n",
    "\n",
    "# Assuming 'Yield_Category' is your target variable for classification\n",
    "X_classification = crop_data.drop('Yield_Category', axis=1)\n",
    "y_classification = crop_data['Yield_Category']\n",
    "\n",
    "# Split the data into training and testing sets\n",
    "X_train_class, X_test_class, y_train_class, y_test_class = train_test_split(X_classification, y_classification, test_size=0.25, random_state=42)\n",
    "\n",
    "# Initialize the Decision Tree Classifier\n",
    "tree_classifier = DecisionTreeClassifier(random_state=42)\n",
    "\n",
    "# Fit the model to the training data\n",
    "tree_classifier.fit(X_train_class, y_train_class)\n",
    "\n",
    "# Predictions on the training set\n",
    "train_predictions_class = tree_classifier.predict(X_train_class)\n",
    "\n",
    "# Predictions on the testing set\n",
    "test_predictions_class = tree_classifier.predict(X_test_class)\n",
    "\n",
    "# Evaluate the model\n",
    "accuracy_train = accuracy_score(y_train_class, train_predictions_class)\n",
    "accuracy_test = accuracy_score(y_test_class, test_predictions_class)\n",
    "\n",
    "print(\"Decision Tree Classifier Model:\")\n",
    "print(\"Training Accuracy:\", accuracy_train)\n",
    "print(\"Testing Accuracy:\", accuracy_test)\n",
    "\n",
    "# Print classification report and confusion matrix for the testing set\n",
    "print(\"\\nClassification Report:\\n\", classification_report(y_test_class, test_predictions_class))\n",
    "print(\"\\nConfusion Matrix:\\n\", confusion_matrix(y_test_class, test_predictions_class))\n"
   ]
  },
  {
   "cell_type": "code",
   "execution_count": 30,
   "id": "269a03e2",
   "metadata": {},
   "outputs": [
    {
     "name": "stdout",
     "output_type": "stream",
     "text": [
      "Accuracy (Random Forest Classifier): 0.9997968718261223\n",
      "Confusion Matrix (Random Forest Classifier):\n",
      " [[  37    1]\n",
      " [   0 4885]]\n"
     ]
    }
   ],
   "source": [
    "# Import necessary libraries\n",
    "from sklearn.ensemble import RandomForestClassifier\n",
    "from sklearn.metrics import accuracy_score, confusion_matrix\n",
    "\n",
    "# Assuming you have already defined X_train_classification, X_test_classification, y_train_classification, y_test_classification\n",
    "\n",
    "# Classification Model - Random Forest\n",
    "random_forest_classifier = RandomForestClassifier(random_state=0)\n",
    "random_forest_classifier.fit(X_train_class, y_train_class)\n",
    "y_pred_random_forest_classification = random_forest_classifier.predict(X_test_class)\n",
    "\n",
    "# Evaluate the Random Forest Classifier\n",
    "accuracy_random_forest = accuracy_score(y_test_class, test_predictions_class)\n",
    "confusion_matrix_random_forest = confusion_matrix(y_test_class, test_predictions_class)\n",
    "\n",
    "print(f\"Accuracy (Random Forest Classifier): {accuracy_random_forest}\")\n",
    "print(\"Confusion Matrix (Random Forest Classifier):\\n\", confusion_matrix_random_forest)\n"
   ]
  },
  {
   "cell_type": "code",
   "execution_count": 33,
   "id": "c83936fc",
   "metadata": {},
   "outputs": [
    {
     "ename": "KeyError",
     "evalue": "'Yield'",
     "output_type": "error",
     "traceback": [
      "\u001b[1;31m---------------------------------------------------------------------------\u001b[0m",
      "\u001b[1;31mKeyError\u001b[0m                                  Traceback (most recent call last)",
      "File \u001b[1;32m~\\anaconda3\\Lib\\site-packages\\pandas\\core\\indexes\\base.py:3802\u001b[0m, in \u001b[0;36mIndex.get_loc\u001b[1;34m(self, key, method, tolerance)\u001b[0m\n\u001b[0;32m   3801\u001b[0m \u001b[38;5;28;01mtry\u001b[39;00m:\n\u001b[1;32m-> 3802\u001b[0m     \u001b[38;5;28;01mreturn\u001b[39;00m \u001b[38;5;28mself\u001b[39m\u001b[38;5;241m.\u001b[39m_engine\u001b[38;5;241m.\u001b[39mget_loc(casted_key)\n\u001b[0;32m   3803\u001b[0m \u001b[38;5;28;01mexcept\u001b[39;00m \u001b[38;5;167;01mKeyError\u001b[39;00m \u001b[38;5;28;01mas\u001b[39;00m err:\n",
      "File \u001b[1;32m~\\anaconda3\\Lib\\site-packages\\pandas\\_libs\\index.pyx:138\u001b[0m, in \u001b[0;36mpandas._libs.index.IndexEngine.get_loc\u001b[1;34m()\u001b[0m\n",
      "File \u001b[1;32m~\\anaconda3\\Lib\\site-packages\\pandas\\_libs\\index.pyx:165\u001b[0m, in \u001b[0;36mpandas._libs.index.IndexEngine.get_loc\u001b[1;34m()\u001b[0m\n",
      "File \u001b[1;32mpandas\\_libs\\hashtable_class_helper.pxi:5745\u001b[0m, in \u001b[0;36mpandas._libs.hashtable.PyObjectHashTable.get_item\u001b[1;34m()\u001b[0m\n",
      "File \u001b[1;32mpandas\\_libs\\hashtable_class_helper.pxi:5753\u001b[0m, in \u001b[0;36mpandas._libs.hashtable.PyObjectHashTable.get_item\u001b[1;34m()\u001b[0m\n",
      "\u001b[1;31mKeyError\u001b[0m: 'Yield'",
      "\nThe above exception was the direct cause of the following exception:\n",
      "\u001b[1;31mKeyError\u001b[0m                                  Traceback (most recent call last)",
      "Cell \u001b[1;32mIn[33], line 6\u001b[0m\n\u001b[0;32m      4\u001b[0m \u001b[38;5;66;03m# Scatter plot for 'Area' vs 'Yield'\u001b[39;00m\n\u001b[0;32m      5\u001b[0m plt\u001b[38;5;241m.\u001b[39mfigure(figsize\u001b[38;5;241m=\u001b[39m(\u001b[38;5;241m10\u001b[39m, \u001b[38;5;241m6\u001b[39m))\n\u001b[1;32m----> 6\u001b[0m sns\u001b[38;5;241m.\u001b[39mscatterplot(x\u001b[38;5;241m=\u001b[39mcrop_data[\u001b[38;5;124m'\u001b[39m\u001b[38;5;124mArea\u001b[39m\u001b[38;5;124m'\u001b[39m], y\u001b[38;5;241m=\u001b[39mcrop_data[\u001b[38;5;124m'\u001b[39m\u001b[38;5;124mYield\u001b[39m\u001b[38;5;124m'\u001b[39m])\n\u001b[0;32m      7\u001b[0m plt\u001b[38;5;241m.\u001b[39mxlabel(\u001b[38;5;124m'\u001b[39m\u001b[38;5;124mArea\u001b[39m\u001b[38;5;124m'\u001b[39m)\n\u001b[0;32m      8\u001b[0m plt\u001b[38;5;241m.\u001b[39mylabel(\u001b[38;5;124m'\u001b[39m\u001b[38;5;124mYield\u001b[39m\u001b[38;5;124m'\u001b[39m)\n",
      "File \u001b[1;32m~\\anaconda3\\Lib\\site-packages\\pandas\\core\\frame.py:3807\u001b[0m, in \u001b[0;36mDataFrame.__getitem__\u001b[1;34m(self, key)\u001b[0m\n\u001b[0;32m   3805\u001b[0m \u001b[38;5;28;01mif\u001b[39;00m \u001b[38;5;28mself\u001b[39m\u001b[38;5;241m.\u001b[39mcolumns\u001b[38;5;241m.\u001b[39mnlevels \u001b[38;5;241m>\u001b[39m \u001b[38;5;241m1\u001b[39m:\n\u001b[0;32m   3806\u001b[0m     \u001b[38;5;28;01mreturn\u001b[39;00m \u001b[38;5;28mself\u001b[39m\u001b[38;5;241m.\u001b[39m_getitem_multilevel(key)\n\u001b[1;32m-> 3807\u001b[0m indexer \u001b[38;5;241m=\u001b[39m \u001b[38;5;28mself\u001b[39m\u001b[38;5;241m.\u001b[39mcolumns\u001b[38;5;241m.\u001b[39mget_loc(key)\n\u001b[0;32m   3808\u001b[0m \u001b[38;5;28;01mif\u001b[39;00m is_integer(indexer):\n\u001b[0;32m   3809\u001b[0m     indexer \u001b[38;5;241m=\u001b[39m [indexer]\n",
      "File \u001b[1;32m~\\anaconda3\\Lib\\site-packages\\pandas\\core\\indexes\\base.py:3804\u001b[0m, in \u001b[0;36mIndex.get_loc\u001b[1;34m(self, key, method, tolerance)\u001b[0m\n\u001b[0;32m   3802\u001b[0m     \u001b[38;5;28;01mreturn\u001b[39;00m \u001b[38;5;28mself\u001b[39m\u001b[38;5;241m.\u001b[39m_engine\u001b[38;5;241m.\u001b[39mget_loc(casted_key)\n\u001b[0;32m   3803\u001b[0m \u001b[38;5;28;01mexcept\u001b[39;00m \u001b[38;5;167;01mKeyError\u001b[39;00m \u001b[38;5;28;01mas\u001b[39;00m err:\n\u001b[1;32m-> 3804\u001b[0m     \u001b[38;5;28;01mraise\u001b[39;00m \u001b[38;5;167;01mKeyError\u001b[39;00m(key) \u001b[38;5;28;01mfrom\u001b[39;00m \u001b[38;5;21;01merr\u001b[39;00m\n\u001b[0;32m   3805\u001b[0m \u001b[38;5;28;01mexcept\u001b[39;00m \u001b[38;5;167;01mTypeError\u001b[39;00m:\n\u001b[0;32m   3806\u001b[0m     \u001b[38;5;66;03m# If we have a listlike key, _check_indexing_error will raise\u001b[39;00m\n\u001b[0;32m   3807\u001b[0m     \u001b[38;5;66;03m#  InvalidIndexError. Otherwise we fall through and re-raise\u001b[39;00m\n\u001b[0;32m   3808\u001b[0m     \u001b[38;5;66;03m#  the TypeError.\u001b[39;00m\n\u001b[0;32m   3809\u001b[0m     \u001b[38;5;28mself\u001b[39m\u001b[38;5;241m.\u001b[39m_check_indexing_error(key)\n",
      "\u001b[1;31mKeyError\u001b[0m: 'Yield'"
     ]
    },
    {
     "data": {
      "text/plain": [
       "<Figure size 1000x600 with 0 Axes>"
      ]
     },
     "metadata": {},
     "output_type": "display_data"
    }
   ],
   "source": [
    "import matplotlib.pyplot as plt\n",
    "import seaborn as sns\n",
    "\n",
    "# Scatter plot for 'Area' vs 'Yield'\n",
    "plt.figure(figsize=(10, 6))\n",
    "sns.scatterplot(x=crop_data['Area'], y=crop_data['Yield'])\n",
    "plt.xlabel('Area')\n",
    "plt.ylabel( 'Yield' )\n",
    "plt.title('Scatter Plot: Area vs Yield')\n",
    "plt.show()\n",
    "\n",
    "# Scatter plot for 'Production' vs 'Yield'\n",
    "plt.figure(figsize=(10, 6))\n",
    "sns.scatterplot(x=crop_data['Production'], y=crop_data['Yield'])\n",
    "plt.xlabel('Production')\n",
    "plt.ylabel('Yield')\n",
    "plt.title('Scatter Plot: Production vs Yield')\n",
    "plt.show()\n",
    "\n",
    "# Scatter plot for 'Annual_Rainfall' vs 'Yield'\n",
    "plt.figure(figsize=(10, 6))\n",
    "sns.scatterplot(x=crop_data['Annual_Rainfall'], y=crop_data['Yield'])\n",
    "plt.xlabel('Annual Rainfall')\n",
    "plt.ylabel('Yield')\n",
    "plt.title('Scatter Plot: Annual Rainfall vs Yield')\n",
    "plt.show()\n",
    "\n",
    "# Scatter plot for 'Fertilizer' vs 'Yield'\n",
    "plt.figure(figsize=(10, 6))\n",
    "sns.scatterplot(x=crop_data['Fertilizer'], y=crop_data['Yield'])\n",
    "plt.xlabel('Fertilizer')\n",
    "plt.ylabel('Yield')\n",
    "plt.title('Scatter Plot: Fertilizer vs Yield')\n",
    "plt.show()\n",
    "\n",
    "# Scatter plot for 'Pesticide' vs 'Yield'\n",
    "plt.figure(figsize=(10, 6))\n",
    "sns.scatterplot(x=crop_data['Pesticide'], y=crop_data['Yield'])\n",
    "plt.xlabel('Pesticide')\n",
    "plt.ylabel('Yield')\n",
    "plt.title('Scatter Plot: Pesticide vs Yield')\n",
    "plt.show()\n"
   ]
  },
  {
   "cell_type": "code",
   "execution_count": 35,
   "id": "81d104de",
   "metadata": {},
   "outputs": [
    {
     "name": "stdout",
     "output_type": "stream",
     "text": [
      "Index(['Crop_Year', 'Area', 'Production', 'Annual_Rainfall', 'Fertilizer',\n",
      "       'Pesticide', 'Season_Kharif     ', 'Season_Rabi       ',\n",
      "       'Season_Summer     ', 'Season_Whole Year ', 'Season_Winter     ',\n",
      "       'State_Arunachal Pradesh', 'State_Assam', 'State_Bihar',\n",
      "       'State_Chhattisgarh', 'State_Delhi', 'State_Goa', 'State_Gujarat',\n",
      "       'State_Haryana', 'State_Himachal Pradesh', 'State_Jammu and Kashmir',\n",
      "       'State_Jharkhand', 'State_Karnataka', 'State_Kerala',\n",
      "       'State_Madhya Pradesh', 'State_Maharashtra', 'State_Manipur',\n",
      "       'State_Meghalaya', 'State_Mizoram', 'State_Nagaland', 'State_Odisha',\n",
      "       'State_Puducherry', 'State_Punjab', 'State_Sikkim', 'State_Tamil Nadu',\n",
      "       'State_Telangana', 'State_Tripura', 'State_Uttar Pradesh',\n",
      "       'State_Uttarakhand', 'State_West Bengal', 'Crop_Arhar/Tur',\n",
      "       'Crop_Bajra', 'Crop_Banana', 'Crop_Barley', 'Crop_Black pepper',\n",
      "       'Crop_Cardamom', 'Crop_Cashewnut', 'Crop_Castor seed', 'Crop_Coconut ',\n",
      "       'Crop_Coriander', 'Crop_Cotton(lint)', 'Crop_Cowpea(Lobia)',\n",
      "       'Crop_Dry chillies', 'Crop_Garlic', 'Crop_Ginger', 'Crop_Gram',\n",
      "       'Crop_Groundnut', 'Crop_Guar seed', 'Crop_Horse-gram', 'Crop_Jowar',\n",
      "       'Crop_Jute', 'Crop_Khesari', 'Crop_Linseed', 'Crop_Maize',\n",
      "       'Crop_Masoor', 'Crop_Mesta', 'Crop_Moong(Green Gram)', 'Crop_Moth',\n",
      "       'Crop_Niger seed', 'Crop_Oilseeds total', 'Crop_Onion',\n",
      "       'Crop_Other  Rabi pulses', 'Crop_Other Cereals',\n",
      "       'Crop_Other Kharif pulses', 'Crop_Other Summer Pulses',\n",
      "       'Crop_Peas & beans (Pulses)', 'Crop_Potato', 'Crop_Ragi',\n",
      "       'Crop_Rapeseed &Mustard', 'Crop_Rice', 'Crop_Safflower',\n",
      "       'Crop_Sannhamp', 'Crop_Sesamum', 'Crop_Small millets', 'Crop_Soyabean',\n",
      "       'Crop_Sugarcane', 'Crop_Sunflower', 'Crop_Sweet potato', 'Crop_Tapioca',\n",
      "       'Crop_Tobacco', 'Crop_Turmeric', 'Crop_Urad', 'Crop_Wheat',\n",
      "       'Crop_other oilseeds', 'Yield_Category'],\n",
      "      dtype='object')\n"
     ]
    }
   ],
   "source": []
  },
  {
   "cell_type": "code",
   "execution_count": null,
   "id": "eadb4337",
   "metadata": {},
   "outputs": [],
   "source": []
  }
 ],
 "metadata": {
  "kernelspec": {
   "display_name": "Python 3 (ipykernel)",
   "language": "python",
   "name": "python3"
  },
  "language_info": {
   "codemirror_mode": {
    "name": "ipython",
    "version": 3
   },
   "file_extension": ".py",
   "mimetype": "text/x-python",
   "name": "python",
   "nbconvert_exporter": "python",
   "pygments_lexer": "ipython3",
   "version": "3.11.3"
  }
 },
 "nbformat": 4,
 "nbformat_minor": 5
}
